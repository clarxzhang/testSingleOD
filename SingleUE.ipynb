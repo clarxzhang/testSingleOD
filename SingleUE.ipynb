{
 "cells": [
  {
   "cell_type": "code",
   "execution_count": 11,
   "metadata": {},
   "outputs": [],
   "source": [
    "from __future__ import division # use presice division\n",
    "import numpy as np\n",
    "import networkx as nx\n",
    "import matplotlib.pyplot as plt\n",
    "from scipy.optimize import minimize_scalar\n",
    "import pandas as pd "
   ]
  },
  {
   "cell_type": "code",
   "execution_count": 12,
   "metadata": {},
   "outputs": [],
   "source": [
    "def bpr_fun(volumn, freeTime, capacity, alpha=0.15, beta=4):\n",
    "    # travelTime = BPR_fun(volumn, freeTime, capacity, alpha=0.15, beta=4)\n",
    "    # edge travel time function\n",
    "    # input: volumn, freeTime, capacity, alpha=0.15, beta=4\n",
    "    # output: travelTime, ndarray class\n",
    "    travelTime = freeTime + freeTime * alpha * (volumn / capacity) ** beta\n",
    "    return travelTime \n",
    "\n",
    "\n",
    "def all_nothing(df, source, target, demand):\n",
    "    ''' allot demand to shortest path\n",
    "    df -- dataframe object of graph edge list with multi attributes\n",
    "    demand -- numeric type of od demand\n",
    "    return volumn, travelTime '''\n",
    "    MDG = nx.from_pandas_edgelist(df, source=\"source\", target=\"target\", edge_attr=True, create_using=nx.MultiDiGraph) \n",
    "    shortestPath = nx.shortest_path(MDG, source=1, target=9, weight='travelTime')\n",
    "    shortestPath = {(s, t) for s, t in zip(shortestPath[:-1], shortestPath[1:])}\n",
    "    idx = range(df.shape[0])\n",
    "    for i, s, t in zip(idx, df[\"source\"], df[\"target\"]):\n",
    "        if (s, t) in shortestPath:\n",
    "            df.loc[i, \"volumn\"] = demand\n",
    "    \n",
    "    volumn = df[\"volumn\"]\n",
    "    travelTime = bpr_fun(volumn=df[\"volumn\"], freeTime=df[\"freeTime\"], capacity=df[\"capacity\"])\n",
    "    df[\"travelTime\"] = travelTime\n",
    "    return volumn, travelTime, df \n",
    "\n",
    "\n",
    "def obj_fun(gamma, volumn, volumnPre, capacity, freeTime):\n",
    "    '''objective function of line serach optimization'''\n",
    "    volumnTmp = volumn + gamma * (volumnPre - volumn)\n",
    "    objVecVal = 1.0*freeTime*volumnTmp + 0.03*freeTime*volumnTmp**5/capacity**4\n",
    "    objVal = np.sum(objVecVal)\n",
    "    return objVal\n",
    "\n",
    "\n",
    "def step_search(volumn, volumnPre, freeTime, capacity):\n",
    "    '''get gamma, the step length '''\n",
    "    f = lambda gamma: obj_fun(gamma, volumn, volumnPre, capacity, freeTime)\n",
    "    res = minimize_scalar(f, bounds=(0.,1.), method='bounded')\n",
    "    gamma = res.x\n",
    "    return gamma"
   ]
  },
  {
   "cell_type": "code",
   "execution_count": 13,
   "metadata": {},
   "outputs": [],
   "source": [
    "#def main():\n",
    "    # creat od\n",
    "    OD = (1, 9, 2000.)\n",
    "    demand = OD[-1]\n",
    "    # load graph edge list with attributes\n",
    "    df = pd.read_csv(\"D:\\\\jobsplay\\\\MyPython\\\\SingleODUEAssignment\\\\N9E12DataFrame.csv\", index_col=0) \n",
    "    capacity = df[\"capacity\"]\n",
    "    freeTime = df[\"freeTime\"]\n",
    "    # step 1 initialize feasible edge flow\n",
    "    volumn, travelTime, df = all_nothing(df, 1, 9, demand)\n",
    "    # step 2 loop to find equilibrium edge flow\n",
    "    for count in range(1):\n",
    "        dfPre = df.copy()\n",
    "        volumnPre = dfPre[\"volumn\"]\n",
    "        volumn, travelTime, df = all_nothing(df, 1, 9, demand)\n",
    "        # step 2.1 find step length\n",
    "\n",
    "\n",
    "#if __name__ == '__main__':\n",
    "    #main()"
   ]
  },
  {
   "cell_type": "code",
   "execution_count": 37,
   "metadata": {},
   "outputs": [
    {
     "data": {
      "text/plain": [
       "0     1500\n",
       "1     1500\n",
       "2     1500\n",
       "3     1500\n",
       "4     1500\n",
       "5     1500\n",
       "6     1500\n",
       "7     1500\n",
       "8     1500\n",
       "9     1500\n",
       "10    1500\n",
       "11    1500\n",
       "Name: freeTime, dtype: int64"
      ]
     },
     "execution_count": 37,
     "metadata": {},
     "output_type": "execute_result"
    }
   ],
   "source": [
    "freeTime"
   ]
  },
  {
   "cell_type": "code",
   "execution_count": 33,
   "metadata": {},
   "outputs": [],
   "source": [
    "def step_search_obj(alpha, edgeFlow, loadedEdgeFlow, freeTT, capacity):\n",
    "    # step search objctive function\n",
    "    newEdgeFlow = edgeFlow + alpha * (loadedEdgeFlow-edgeFlow)\n",
    "    obj = freeTT * newEdgeFlow + (3*freeTT*newEdgeFlow**5) / (100*capacity**4)\n",
    "    #obj =  1.0*freeTT*(alpha*(-edgeFlow + loadedEdgeFlow) + edgeFlow) + 0.3*freeTT*(alpha*(-edgeFlow + loadedEdgeFlow) + edgeFlow)**2/capacity + 0.045*freeTT*(alpha*(-edgeFlow + loadedEdgeFlow) + edgeFlow)**3/capacity**2 + 0.003375*freeTT*(alpha*(-edgeFlow + loadedEdgeFlow) + edgeFlow)**4/capacity**3 + 0.00010125*freeTT*(alpha*(-edgeFlow + loadedEdgeFlow) + edgeFlow)**5/capacity**4\n",
    "    obj = np.sum(obj)\n",
    "    return obj"
   ]
  },
  {
   "cell_type": "code",
   "execution_count": 34,
   "metadata": {},
   "outputs": [],
   "source": [
    "y = np.arange(0, 1, 0.1)\n",
    "for i, gamma in enumerate(np.arange(0, 1, 0.1)):\n",
    "    fVal = step_search_obj(gamma, edgeFlow=volumn, loadedEdgeFlow=volumnPre, freeTT=freeTime, capacity=capacity)\n",
    "    y[i] = fVal\n",
    "\n",
    "gamma = np.arange(0, 1, 0.1)"
   ]
  },
  {
   "cell_type": "code",
   "execution_count": 35,
   "metadata": {},
   "outputs": [
    {
     "data": {
      "text/plain": [
       "[<matplotlib.lines.Line2D at 0x2647f3f22b0>]"
      ]
     },
     "execution_count": 35,
     "metadata": {},
     "output_type": "execute_result"
    },
    {
     "data": {
      "image/png": "[encoded data removed]",
      "text/plain": [
       "<Figure size 432x288 with 1 Axes>"
      ]
     },
     "metadata": {
      "needs_background": "light"
     },
     "output_type": "display_data"
    }
   ],
   "source": [
    "plt.plot(gamma, y)"
   ]
  },
  {
   "cell_type": "code",
   "execution_count": null,
   "metadata": {},
   "outputs": [],
   "source": [
    "shortestPath"
   ]
  },
  {
   "cell_type": "code",
   "execution_count": null,
   "metadata": {},
   "outputs": [],
   "source": [
    "shortestPathLength"
   ]
  },
  {
   "cell_type": "code",
   "execution_count": null,
   "metadata": {},
   "outputs": [],
   "source": [
    "tuple(nx.utils.pairwise(shortestPath) )   "
   ]
  },
  {
   "cell_type": "code",
   "execution_count": null,
   "metadata": {},
   "outputs": [],
   "source": [
    "# update edge volumn with demand"
   ]
  },
  {
   "cell_type": "code",
   "execution_count": null,
   "metadata": {},
   "outputs": [],
   "source": [
    "for s, t in zip(shortestPath[:-1], shortestPath[1:]):\n",
    "    N9E12[s][t][\"volumn\"] = 2000.\n",
    "    \n",
    "for e, volumn in zip(N9E12.edges, N9E12.edges.data(\"volumn\")):\n",
    "    print(e, volumn)\n",
    "    "
   ]
  },
  {
   "cell_type": "code",
   "execution_count": null,
   "metadata": {},
   "outputs": [],
   "source": [
    "# update edge travel time"
   ]
  },
  {
   "cell_type": "code",
   "execution_count": null,
   "metadata": {},
   "outputs": [],
   "source": [
    "# visualizw graph"
   ]
  },
  {
   "cell_type": "code",
   "execution_count": null,
   "metadata": {},
   "outputs": [],
   "source": [
    "pos = nx.random_layout(N9E12)"
   ]
  },
  {
   "cell_type": "code",
   "execution_count": null,
   "metadata": {},
   "outputs": [],
   "source": [
    "plot = nx.draw_networkx(G=N9E12, pos=pos)"
   ]
  },
  {
   "cell_type": "code",
   "execution_count": null,
   "metadata": {},
   "outputs": [],
   "source": []
  },
  {
   "cell_type": "code",
   "execution_count": null,
   "metadata": {},
   "outputs": [],
   "source": [
    "edge_labels = nx.draw_networkx_edge_labels(N9E12, pos=pos)"
   ]
  },
  {
   "cell_type": "code",
   "execution_count": null,
   "metadata": {},
   "outputs": [],
   "source": [
    "# load network\n",
    "def load_network(filename):\n",
    "    \"\"\"network = load_network(): load network from filename.csv\n",
    "    |--input: filename\n",
    "    |--output: network, type is ndarray class\n",
    "    \"\"\"\n",
    "    network = np.loadtxt(filename, dtype=np.int32, delimiter=',')\n",
    "    return network\n"
   ]
  },
  {
   "cell_type": "code",
   "execution_count": null,
   "metadata": {},
   "outputs": [],
   "source": [
    "network = load_network('N9E12.csv')\n",
    "network"
   ]
  },
  {
   "cell_type": "code",
   "execution_count": null,
   "metadata": {},
   "outputs": [],
   "source": [
    "\n",
    "\n",
    "def load_edgepathmat(filename):\n",
    "    \"\"\"load_edgepathmat(): load edgePathMat from filename.csv\n",
    "    |--input: filename\n",
    "    |--output: edgePathMat is ndarray class\n",
    "    \"\"\"\n",
    "    edgePathMat = np.loadtxt(filename, dtype=np.int32, delimiter=',')\n",
    "    return edgePathMat\n",
    "\n",
    "def gen_all_paths(network, ONode, DNode):\n",
    "    \"\"\"gen_all_paths(): to generate all acyclic paths\n",
    "       |--input: G, O, D\n",
    "       |--output: pathTrack\"\"\"\n",
    "    G = nx.DiGraph()\n",
    "    G.add_edges_from(network)\n",
    "    allPaths = nx.all_simple_paths(G, source=ONode, target=DNode)\n",
    "    pathTrack = []\n",
    "    for i, path in enumerate(allPaths):\n",
    "        pathTrack.append(path)\n",
    "    \n",
    "    return pathTrack\n",
    "\n",
    "\n",
    "\n",
    "def edgeTT_to_pathTT(edgeTT, edgePathMat):\n",
    "    # pathTT = edgeTT_to_pathTT(edgeTT, edgePathMat) convert edge travel time to path travel time\n",
    "    # input: edgeTT, edgePathMat\n",
    "    # output: pathTT ndarray class\n",
    "    pathTT = edgeTT.dot(edgePathMat)\n",
    "    return pathTT\n",
    "\n",
    "def all_nothing_load(demand, pathTT, edgePathMat):\n",
    "    # loadedEdgeFlow = all_nothing_load(demand, pathTT, edgePathMat) to assign demand to shortest path\n",
    "    # input: demand, pathTT, edgePathMat\n",
    "    # output: loadedEdgeFlow ndarray class\n",
    "    idx = np.argmin(pathTT)\n",
    "    loadedEdgeFlow = demand * edgePathMat[:, idx]\n",
    "    return loadedEdgeFlow\n",
    "\n",
    "def init_edgeflow(demand, freeTT, capacity, edgePathMat):\n",
    "    # edgeFlow = init_edgeflow(demand, freeTT, capacity, edgePathMat) to give init feasible edge flow\n",
    "    # input: demand, freeTT, capacity, edgePathMat\n",
    "    # output: edgeFlow ndarray\n",
    "    edgeFlow = np.zeros(freeTT.shape[0])\n",
    "    edgeTT = BPR_fun(edgeFlow, freeTT, capacity, alpha=0.15, beta=4)\n",
    "    pathTT = edgeTT_to_pathTT(edgeTT, edgePathMat)\n",
    "    loadedEdgeFlow = all_nothing_load(demand, pathTT, edgePathMat)\n",
    "    edgeFlow = loadedEdgeFlow.copy()\n",
    "    return edgeFlow\n",
    "\n",
    "def step_search_obj(alpha, edgeFlow, loadedEdgeFlow, freeTT, capacity):\n",
    "    # step search objctive function\n",
    "    newEdgeFlow = edgeFlow + alpha * (loadedEdgeFlow-edgeFlow)\n",
    "    obj = freeTT * newEdgeFlow + (3*freeTT*newEdgeFlow**5) / (100*capacity**4)\n",
    "    #obj =  1.0*freeTT*(alpha*(-edgeFlow + loadedEdgeFlow) + edgeFlow) + 0.3*freeTT*(alpha*(-edgeFlow + loadedEdgeFlow) + edgeFlow)**2/capacity + 0.045*freeTT*(alpha*(-edgeFlow + loadedEdgeFlow) + edgeFlow)**3/capacity**2 + 0.003375*freeTT*(alpha*(-edgeFlow + loadedEdgeFlow) + edgeFlow)**4/capacity**3 + 0.00010125*freeTT*(alpha*(-edgeFlow + loadedEdgeFlow) + edgeFlow)**5/capacity**4\n",
    "    obj = np.sum(obj)\n",
    "    return obj\n",
    "\n",
    "def step_search(edgeFlow, loadedEdgeFlow, freeTT, capacity):\n",
    "    # alpha = step_search(edgeFlow, loadedEdgeFlow, freeTT, capacity) to get alpha from univariate optimization\n",
    "    f = lambda alpha: step_search_obj(alpha, edgeFlow, loadedEdgeFlow, freeTT, capacity)\n",
    "    res = minimize_scalar(f, bounds=(0,1), method='bounded')\n",
    "    alpha = res.x\n",
    "    return alpha\n",
    "\n",
    "def update_edgeflow(edgeFlow, loadedEdgeFlow, alpha):\n",
    "    # newEdgeFlow = update_edgeflow(edgeFlow, loadedEdgeFlow, alpha)\n",
    "    # to update edge flow\n",
    "    newEdgeFlow = edgeFlow + alpha*(loadedEdgeFlow-edgeFlow)\n",
    "    return newEdgeFlow\n",
    "\n",
    "def is_converged(newEdgeFlow, edgeFlow, err=0.001):\n",
    "    testValue = np.sqrt(np.sum((newEdgeFlow-edgeFlow)**2)) / np.sum(edgeFlow)\n",
    "    if testValue <= err:\n",
    "        flag = True\n",
    "    else:\n",
    "        flag = False\n",
    "    \n",
    "    return flag\n",
    "\n",
    "def main_loop(edgeFlow,freeTT, capacity, edgePathMat, demand, maxCount=100, err=0.0001):\n",
    "    # edgeFlow, count = main_loop(edgeFlow,freeTT, capacity, edgePathMat, demand, maxCount=100)\n",
    "    # to find equilibrium edge flow pattern\n",
    "    for i in np.arange(maxCount):\n",
    "        newEdgeTT = BPR_fun(edgeFlow, freeTT, capacity, alpha=0.15, beta=4)\n",
    "        newPathTT = edgeTT_to_pathTT(newEdgeTT, edgePathMat)\n",
    "        loadedEdgeFlow = all_nothing_load(demand, newPathTT, edgePathMat)\n",
    "        alpha = step_search(edgeFlow, loadedEdgeFlow, freeTT, capacity)\n",
    "        newEdgeFlow = update_edgeflow(edgeFlow, loadedEdgeFlow, alpha)\n",
    "        if is_converged(newEdgeFlow, edgeFlow, err):\n",
    "            break\n",
    "        else:\n",
    "            edgeFlow = newEdgeFlow.copy()\n",
    "        #\n",
    "    #\n",
    "    count = i\n",
    "    return edgeFlow, count\n"
   ]
  },
  {
   "cell_type": "code",
   "execution_count": null,
   "metadata": {},
   "outputs": [],
   "source": [
    "networkIfo = load_network('N9E12.csv')\n",
    "network = networkIfo[:, 0:2]\n",
    "capacity = networkIfo[:, 2]\n",
    "freeTT = networkIfo[:, 3]\n",
    "trip = load_trip('N9E12Trip.csv')\n",
    "ONode, DNode = trip[0], trip[1]\n",
    "edgePathMat = load_edgepathmat('N9E12EdgePathMat.csv')\n",
    "demand = 2000\n",
    "\n"
   ]
  },
  {
   "cell_type": "code",
   "execution_count": null,
   "metadata": {},
   "outputs": [],
   "source": [
    "edgeFlow = init_edgeflow(demand, freeTT, capacity, edgePathMat)\n",
    "edgeFlow, count = main_loop(edgeFlow,freeTT, capacity, edgePathMat, demand, maxCount=600, err=0.00001)\n",
    "print(edgeFlow, count)"
   ]
  },
  {
   "cell_type": "code",
   "execution_count": null,
   "metadata": {
    "scrolled": true
   },
   "outputs": [],
   "source": [
    "network\n",
    "networkIfo\n",
    "edgePathMat"
   ]
  },
  {
   "cell_type": "code",
   "execution_count": null,
   "metadata": {},
   "outputs": [],
   "source": [
    "network"
   ]
  },
  {
   "cell_type": "code",
   "execution_count": null,
   "metadata": {},
   "outputs": [],
   "source": [
    "a1 = np.mat([1, 2])"
   ]
  },
  {
   "cell_type": "code",
   "execution_count": null,
   "metadata": {},
   "outputs": [],
   "source": [
    "a1"
   ]
  },
  {
   "cell_type": "code",
   "execution_count": null,
   "metadata": {},
   "outputs": [],
   "source": [
    "a2 = np.mat([[1], [2]])"
   ]
  },
  {
   "cell_type": "code",
   "execution_count": null,
   "metadata": {},
   "outputs": [],
   "source": [
    "a2"
   ]
  },
  {
   "cell_type": "code",
   "execution_count": null,
   "metadata": {},
   "outputs": [],
   "source": [
    "a1.shape"
   ]
  },
  {
   "cell_type": "code",
   "execution_count": null,
   "metadata": {},
   "outputs": [],
   "source": [
    "a2.shape"
   ]
  },
  {
   "cell_type": "code",
   "execution_count": null,
   "metadata": {},
   "outputs": [],
   "source": [
    "a2*2"
   ]
  },
  {
   "cell_type": "code",
   "execution_count": null,
   "metadata": {},
   "outputs": [],
   "source": [
    "a3 = a1.T"
   ]
  },
  {
   "cell_type": "code",
   "execution_count": null,
   "metadata": {},
   "outputs": [],
   "source": [
    "a3"
   ]
  },
  {
   "cell_type": "code",
   "execution_count": null,
   "metadata": {},
   "outputs": [],
   "source": [
    "a4 = np.multiply(a2, a3) # dot multiply\n",
    "a4"
   ]
  },
  {
   "cell_type": "code",
   "execution_count": null,
   "metadata": {},
   "outputs": [],
   "source": [
    "a5 = np.divide(a2, a3)# dot divide\n",
    "a5"
   ]
  },
  {
   "cell_type": "code",
   "execution_count": null,
   "metadata": {},
   "outputs": [],
   "source": [
    "a3[1, 0] = 3"
   ]
  },
  {
   "cell_type": "code",
   "execution_count": null,
   "metadata": {},
   "outputs": [],
   "source": []
  }
 ],
 "metadata": {
  "kernelspec": {
   "display_name": "Python 3",
   "language": "python",
   "name": "python3"
  },
  "language_info": {
   "codemirror_mode": {
    "name": "ipython",
    "version": 3
   },
   "file_extension": ".py",
   "mimetype": "text/x-python",
   "name": "python",
   "nbconvert_exporter": "python",
   "pygments_lexer": "ipython3",
   "version": "3.6.7"
  }
 },
 "nbformat": 4,
 "nbformat_minor": 2
}
